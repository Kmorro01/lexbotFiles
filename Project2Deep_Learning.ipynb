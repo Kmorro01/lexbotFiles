{
 "cells": [
  {
   "cell_type": "markdown",
   "metadata": {},
   "source": [
    "# Project 2 Deep Learning Evaluation"
   ]
  },
  {
   "cell_type": "code",
   "execution_count": 1,
   "metadata": {},
   "outputs": [],
   "source": [
    "# Initial imports\n",
    "from tensorflow.keras.models import Sequential\n",
    "from tensorflow.keras.layers import Dense\n",
    "from pathlib import Path\n",
    "import pandas as pd\n",
    "import matplotlib.pyplot as plt\n",
    "from sklearn.model_selection import train_test_split\n",
    "import numpy as np\n",
    "import pickle\n",
    "import json\n",
    "\n",
    "\n",
    "%matplotlib inline"
   ]
  },
  {
   "cell_type": "code",
   "execution_count": 2,
   "metadata": {},
   "outputs": [
    {
     "data": {
      "text/html": [
       "<div>\n",
       "<style scoped>\n",
       "    .dataframe tbody tr th:only-of-type {\n",
       "        vertical-align: middle;\n",
       "    }\n",
       "\n",
       "    .dataframe tbody tr th {\n",
       "        vertical-align: top;\n",
       "    }\n",
       "\n",
       "    .dataframe thead th {\n",
       "        text-align: right;\n",
       "    }\n",
       "</style>\n",
       "<table border=\"1\" class=\"dataframe\">\n",
       "  <thead>\n",
       "    <tr style=\"text-align: right;\">\n",
       "      <th></th>\n",
       "      <th>ID</th>\n",
       "      <th>LIMIT_BAL</th>\n",
       "      <th>MARRIAGE</th>\n",
       "      <th>AGE</th>\n",
       "      <th>PAY_0</th>\n",
       "      <th>PAY_2</th>\n",
       "      <th>PAY_3</th>\n",
       "      <th>PAY_4</th>\n",
       "      <th>PAY_5</th>\n",
       "      <th>PAY_6</th>\n",
       "      <th>...</th>\n",
       "      <th>PAY_AMT4</th>\n",
       "      <th>PAY_AMT5</th>\n",
       "      <th>PAY_AMT6</th>\n",
       "      <th>default_pay</th>\n",
       "      <th>Total_Missed_Pymts</th>\n",
       "      <th>Payment_Ratio</th>\n",
       "      <th>Total_Bill_AMT</th>\n",
       "      <th>Total_Payment</th>\n",
       "      <th>%_Amount_Paid</th>\n",
       "      <th>Risk_Level</th>\n",
       "    </tr>\n",
       "  </thead>\n",
       "  <tbody>\n",
       "    <tr>\n",
       "      <th>0</th>\n",
       "      <td>1</td>\n",
       "      <td>20000.0</td>\n",
       "      <td>1</td>\n",
       "      <td>24</td>\n",
       "      <td>1</td>\n",
       "      <td>1</td>\n",
       "      <td>0</td>\n",
       "      <td>0</td>\n",
       "      <td>0</td>\n",
       "      <td>0</td>\n",
       "      <td>...</td>\n",
       "      <td>0.0</td>\n",
       "      <td>0.0</td>\n",
       "      <td>0.0</td>\n",
       "      <td>1</td>\n",
       "      <td>2</td>\n",
       "      <td>33.333333</td>\n",
       "      <td>7704.0</td>\n",
       "      <td>689.0</td>\n",
       "      <td>8.943406</td>\n",
       "      <td>Moderate</td>\n",
       "    </tr>\n",
       "    <tr>\n",
       "      <th>1</th>\n",
       "      <td>2</td>\n",
       "      <td>120000.0</td>\n",
       "      <td>2</td>\n",
       "      <td>26</td>\n",
       "      <td>0</td>\n",
       "      <td>1</td>\n",
       "      <td>0</td>\n",
       "      <td>0</td>\n",
       "      <td>0</td>\n",
       "      <td>1</td>\n",
       "      <td>...</td>\n",
       "      <td>1000.0</td>\n",
       "      <td>0.0</td>\n",
       "      <td>2000.0</td>\n",
       "      <td>1</td>\n",
       "      <td>2</td>\n",
       "      <td>33.333333</td>\n",
       "      <td>17077.0</td>\n",
       "      <td>5000.0</td>\n",
       "      <td>29.279147</td>\n",
       "      <td>Moderate</td>\n",
       "    </tr>\n",
       "    <tr>\n",
       "      <th>2</th>\n",
       "      <td>3</td>\n",
       "      <td>90000.0</td>\n",
       "      <td>2</td>\n",
       "      <td>34</td>\n",
       "      <td>0</td>\n",
       "      <td>0</td>\n",
       "      <td>0</td>\n",
       "      <td>0</td>\n",
       "      <td>0</td>\n",
       "      <td>0</td>\n",
       "      <td>...</td>\n",
       "      <td>1000.0</td>\n",
       "      <td>1000.0</td>\n",
       "      <td>5000.0</td>\n",
       "      <td>0</td>\n",
       "      <td>0</td>\n",
       "      <td>0.000000</td>\n",
       "      <td>101653.0</td>\n",
       "      <td>11018.0</td>\n",
       "      <td>10.838834</td>\n",
       "      <td>NaN</td>\n",
       "    </tr>\n",
       "    <tr>\n",
       "      <th>3</th>\n",
       "      <td>4</td>\n",
       "      <td>50000.0</td>\n",
       "      <td>1</td>\n",
       "      <td>37</td>\n",
       "      <td>0</td>\n",
       "      <td>0</td>\n",
       "      <td>0</td>\n",
       "      <td>0</td>\n",
       "      <td>0</td>\n",
       "      <td>0</td>\n",
       "      <td>...</td>\n",
       "      <td>1100.0</td>\n",
       "      <td>1069.0</td>\n",
       "      <td>1000.0</td>\n",
       "      <td>0</td>\n",
       "      <td>0</td>\n",
       "      <td>0.000000</td>\n",
       "      <td>231334.0</td>\n",
       "      <td>8388.0</td>\n",
       "      <td>3.625926</td>\n",
       "      <td>NaN</td>\n",
       "    </tr>\n",
       "    <tr>\n",
       "      <th>4</th>\n",
       "      <td>5</td>\n",
       "      <td>50000.0</td>\n",
       "      <td>1</td>\n",
       "      <td>57</td>\n",
       "      <td>0</td>\n",
       "      <td>0</td>\n",
       "      <td>0</td>\n",
       "      <td>0</td>\n",
       "      <td>0</td>\n",
       "      <td>0</td>\n",
       "      <td>...</td>\n",
       "      <td>9000.0</td>\n",
       "      <td>689.0</td>\n",
       "      <td>679.0</td>\n",
       "      <td>0</td>\n",
       "      <td>0</td>\n",
       "      <td>0.000000</td>\n",
       "      <td>109339.0</td>\n",
       "      <td>59049.0</td>\n",
       "      <td>54.005433</td>\n",
       "      <td>NaN</td>\n",
       "    </tr>\n",
       "  </tbody>\n",
       "</table>\n",
       "<p>5 rows × 29 columns</p>\n",
       "</div>"
      ],
      "text/plain": [
       "   ID  LIMIT_BAL  MARRIAGE  AGE  PAY_0  PAY_2  PAY_3  PAY_4  PAY_5  PAY_6  \\\n",
       "0   1    20000.0         1   24      1      1      0      0      0      0   \n",
       "1   2   120000.0         2   26      0      1      0      0      0      1   \n",
       "2   3    90000.0         2   34      0      0      0      0      0      0   \n",
       "3   4    50000.0         1   37      0      0      0      0      0      0   \n",
       "4   5    50000.0         1   57      0      0      0      0      0      0   \n",
       "\n",
       "   ...  PAY_AMT4  PAY_AMT5  PAY_AMT6  default_pay  Total_Missed_Pymts  \\\n",
       "0  ...       0.0       0.0       0.0            1                   2   \n",
       "1  ...    1000.0       0.0    2000.0            1                   2   \n",
       "2  ...    1000.0    1000.0    5000.0            0                   0   \n",
       "3  ...    1100.0    1069.0    1000.0            0                   0   \n",
       "4  ...    9000.0     689.0     679.0            0                   0   \n",
       "\n",
       "   Payment_Ratio  Total_Bill_AMT  Total_Payment  %_Amount_Paid  Risk_Level  \n",
       "0      33.333333          7704.0          689.0       8.943406    Moderate  \n",
       "1      33.333333         17077.0         5000.0      29.279147    Moderate  \n",
       "2       0.000000        101653.0        11018.0      10.838834         NaN  \n",
       "3       0.000000        231334.0         8388.0       3.625926         NaN  \n",
       "4       0.000000        109339.0        59049.0      54.005433         NaN  \n",
       "\n",
       "[5 rows x 29 columns]"
      ]
     },
     "execution_count": 2,
     "metadata": {},
     "output_type": "execute_result"
    }
   ],
   "source": [
    "# Read in data\n",
    "data = Path(\"forlex.csv\")\n",
    "clean_df = pd.read_csv(data)\n",
    "clean_df.head()"
   ]
  },
  {
   "cell_type": "code",
   "execution_count": 3,
   "metadata": {},
   "outputs": [
    {
     "data": {
      "text/plain": [
       "ID                   -0.013952\n",
       "LIMIT_BAL            -0.153520\n",
       "MARRIAGE             -0.024339\n",
       "AGE                   0.013890\n",
       "PAY_0                 0.368117\n",
       "PAY_2                 0.338022\n",
       "PAY_3                 0.293583\n",
       "PAY_4                 0.275495\n",
       "PAY_5                 0.266959\n",
       "PAY_6                 0.246089\n",
       "BILL_AMT1            -0.019644\n",
       "BILL_AMT2            -0.014193\n",
       "BILL_AMT3            -0.014076\n",
       "BILL_AMT4            -0.010156\n",
       "BILL_AMT5            -0.006760\n",
       "BILL_AMT6            -0.005372\n",
       "PAY_AMT1             -0.072929\n",
       "PAY_AMT2             -0.058579\n",
       "PAY_AMT3             -0.056250\n",
       "PAY_AMT4             -0.056827\n",
       "PAY_AMT5             -0.055124\n",
       "PAY_AMT6             -0.053183\n",
       "default_pay           1.000000\n",
       "Total_Missed_Pymts    0.398394\n",
       "Payment_Ratio         0.398394\n",
       "Total_Bill_AMT       -0.012691\n",
       "Total_Payment        -0.102354\n",
       "%_Amount_Paid        -0.011391\n",
       "Name: default_pay, dtype: float64"
      ]
     },
     "execution_count": 3,
     "metadata": {},
     "output_type": "execute_result"
    }
   ],
   "source": [
    "clean_df.corr()['default_pay']"
   ]
  },
  {
   "cell_type": "code",
   "execution_count": 4,
   "metadata": {},
   "outputs": [],
   "source": [
    "X = clean_df[['MARRIAGE','AGE','PAY_0','PAY_2','PAY_3','PAY_4','PAY_5','PAY_6','Total_Missed_Pymts','Payment_Ratio']]\n",
    "\n",
    "y = clean_df[['default_pay']].values"
   ]
  },
  {
   "cell_type": "code",
   "execution_count": 5,
   "metadata": {
    "tags": []
   },
   "outputs": [],
   "source": [
    "# Scale the data of the features set using the StandardScaler\n",
    "from sklearn.preprocessing import StandardScaler\n",
    "\n"
   ]
  },
  {
   "cell_type": "code",
   "execution_count": 6,
   "metadata": {},
   "outputs": [],
   "source": [
    "# Create training and testing datasets\n",
    "X_train, X_test, y_train, y_test = train_test_split(X, y, random_state=78)"
   ]
  },
  {
   "cell_type": "code",
   "execution_count": 7,
   "metadata": {},
   "outputs": [],
   "source": [
    "# Create the scaler instance\n",
    "X_scaler = StandardScaler()"
   ]
  },
  {
   "cell_type": "code",
   "execution_count": 8,
   "metadata": {},
   "outputs": [
    {
     "data": {
      "text/plain": [
       "StandardScaler()"
      ]
     },
     "execution_count": 8,
     "metadata": {},
     "output_type": "execute_result"
    }
   ],
   "source": [
    "# Fit the scaler\n",
    "X_scaler.fit(X_train)"
   ]
  },
  {
   "cell_type": "code",
   "execution_count": 9,
   "metadata": {},
   "outputs": [],
   "source": [
    "# Scale the features data\n",
    "X_train_scaled = X_scaler.transform(X_train)\n",
    "X_test_scaled = X_scaler.transform(X_test)"
   ]
  },
  {
   "cell_type": "markdown",
   "metadata": {},
   "source": [
    "# Deep Learning 1 Hidden Level"
   ]
  },
  {
   "cell_type": "code",
   "execution_count": 10,
   "metadata": {
    "tags": []
   },
   "outputs": [],
   "source": [
    "# Create a shallow, 1 hidden layer, neural network\n",
    "nn = Sequential()\n",
    "\n",
    "# Hidden layer\n",
    "nn.add(Dense(units=8, input_dim=10, activation=\"tanh\"))\n",
    "\n",
    "# Output layer\n",
    "nn.add(Dense(units=1, activation=\"sigmoid\"))"
   ]
  },
  {
   "cell_type": "code",
   "execution_count": 11,
   "metadata": {
    "scrolled": true,
    "tags": []
   },
   "outputs": [
    {
     "name": "stdout",
     "output_type": "stream",
     "text": [
      "Epoch 1/50\n",
      "493/493 [==============================] - 2s 2ms/step - loss: 0.1962 - accuracy: 0.7274 - mse: 0.1962 - val_loss: 0.1814 - val_accuracy: 0.7646 - val_mse: 0.1814\n",
      "Epoch 2/50\n",
      "493/493 [==============================] - 1s 2ms/step - loss: 0.1755 - accuracy: 0.7757 - mse: 0.1755 - val_loss: 0.1796 - val_accuracy: 0.7683 - val_mse: 0.1796\n",
      "Epoch 3/50\n",
      "493/493 [==============================] - 1s 2ms/step - loss: 0.1746 - accuracy: 0.7760 - mse: 0.1746 - val_loss: 0.1794 - val_accuracy: 0.7685 - val_mse: 0.1794\n",
      "Epoch 4/50\n",
      "493/493 [==============================] - 1s 2ms/step - loss: 0.1743 - accuracy: 0.7760 - mse: 0.1743 - val_loss: 0.1791 - val_accuracy: 0.7685 - val_mse: 0.1791\n",
      "Epoch 5/50\n",
      "493/493 [==============================] - 1s 2ms/step - loss: 0.1742 - accuracy: 0.7760 - mse: 0.1742 - val_loss: 0.1792 - val_accuracy: 0.7685 - val_mse: 0.1792\n",
      "Epoch 6/50\n",
      "493/493 [==============================] - 1s 2ms/step - loss: 0.1741 - accuracy: 0.7762 - mse: 0.1741 - val_loss: 0.1790 - val_accuracy: 0.7685 - val_mse: 0.1790\n",
      "Epoch 7/50\n",
      "493/493 [==============================] - 1s 2ms/step - loss: 0.1741 - accuracy: 0.7762 - mse: 0.1741 - val_loss: 0.1788 - val_accuracy: 0.7685 - val_mse: 0.1788\n",
      "Epoch 8/50\n",
      "493/493 [==============================] - 1s 1ms/step - loss: 0.1740 - accuracy: 0.7761 - mse: 0.1740 - val_loss: 0.1788 - val_accuracy: 0.7685 - val_mse: 0.1788\n",
      "Epoch 9/50\n",
      "493/493 [==============================] - 1s 1ms/step - loss: 0.1740 - accuracy: 0.7762 - mse: 0.1740 - val_loss: 0.1788 - val_accuracy: 0.7685 - val_mse: 0.1788\n",
      "Epoch 10/50\n",
      "493/493 [==============================] - 1s 1ms/step - loss: 0.1740 - accuracy: 0.7762 - mse: 0.1740 - val_loss: 0.1788 - val_accuracy: 0.7685 - val_mse: 0.1788\n",
      "Epoch 11/50\n",
      "493/493 [==============================] - 1s 1ms/step - loss: 0.1739 - accuracy: 0.7762 - mse: 0.1739 - val_loss: 0.1788 - val_accuracy: 0.7685 - val_mse: 0.1788\n",
      "Epoch 12/50\n",
      "493/493 [==============================] - 1s 2ms/step - loss: 0.1739 - accuracy: 0.7762 - mse: 0.1739 - val_loss: 0.1787 - val_accuracy: 0.7685 - val_mse: 0.1787\n",
      "Epoch 13/50\n",
      "493/493 [==============================] - 1s 1ms/step - loss: 0.1739 - accuracy: 0.7762 - mse: 0.1739 - val_loss: 0.1789 - val_accuracy: 0.7685 - val_mse: 0.1789\n",
      "Epoch 14/50\n",
      "493/493 [==============================] - 1s 1ms/step - loss: 0.1738 - accuracy: 0.7762 - mse: 0.1738 - val_loss: 0.1787 - val_accuracy: 0.7685 - val_mse: 0.1787\n",
      "Epoch 15/50\n",
      "493/493 [==============================] - 1s 1ms/step - loss: 0.1738 - accuracy: 0.7762 - mse: 0.1738 - val_loss: 0.1787 - val_accuracy: 0.7685 - val_mse: 0.1787\n",
      "Epoch 16/50\n",
      "493/493 [==============================] - 1s 1ms/step - loss: 0.1738 - accuracy: 0.7762 - mse: 0.1738 - val_loss: 0.1788 - val_accuracy: 0.7685 - val_mse: 0.1788\n",
      "Epoch 17/50\n",
      "493/493 [==============================] - 1s 1ms/step - loss: 0.1738 - accuracy: 0.7762 - mse: 0.1738 - val_loss: 0.1788 - val_accuracy: 0.7685 - val_mse: 0.1788\n",
      "Epoch 18/50\n",
      "493/493 [==============================] - 1s 2ms/step - loss: 0.1738 - accuracy: 0.7762 - mse: 0.1738 - val_loss: 0.1787 - val_accuracy: 0.7685 - val_mse: 0.1787\n",
      "Epoch 19/50\n",
      "493/493 [==============================] - 1s 1ms/step - loss: 0.1738 - accuracy: 0.7762 - mse: 0.1738 - val_loss: 0.1788 - val_accuracy: 0.7685 - val_mse: 0.1788\n",
      "Epoch 20/50\n",
      "493/493 [==============================] - 1s 1ms/step - loss: 0.1738 - accuracy: 0.7762 - mse: 0.1738 - val_loss: 0.1787 - val_accuracy: 0.7685 - val_mse: 0.1787\n",
      "Epoch 21/50\n",
      "493/493 [==============================] - 1s 1ms/step - loss: 0.1737 - accuracy: 0.7762 - mse: 0.1737 - val_loss: 0.1787 - val_accuracy: 0.7685 - val_mse: 0.1787\n",
      "Epoch 22/50\n",
      "493/493 [==============================] - 1s 1ms/step - loss: 0.1737 - accuracy: 0.7762 - mse: 0.1737 - val_loss: 0.1787 - val_accuracy: 0.7685 - val_mse: 0.1787\n",
      "Epoch 23/50\n",
      "493/493 [==============================] - 1s 1ms/step - loss: 0.1737 - accuracy: 0.7762 - mse: 0.1737 - val_loss: 0.1788 - val_accuracy: 0.7685 - val_mse: 0.1788\n",
      "Epoch 24/50\n",
      "493/493 [==============================] - 1s 2ms/step - loss: 0.1737 - accuracy: 0.7762 - mse: 0.1737 - val_loss: 0.1786 - val_accuracy: 0.7685 - val_mse: 0.1786\n",
      "Epoch 25/50\n",
      "  1/493 [..............................] - ETA: 0s - loss: 0.1875 - accuracy: 0.7500 - mse: 0.1875"
     ]
    },
    {
     "ename": "KeyboardInterrupt",
     "evalue": "",
     "output_type": "error",
     "traceback": [
      "\u001b[1;31m---------------------------------------------------------------------------\u001b[0m",
      "\u001b[1;31mKeyboardInterrupt\u001b[0m                         Traceback (most recent call last)",
      "\u001b[1;32m<ipython-input-11-db68ffea848b>\u001b[0m in \u001b[0;36m<module>\u001b[1;34m\u001b[0m\n\u001b[0;32m      3\u001b[0m \u001b[1;33m\u001b[0m\u001b[0m\n\u001b[0;32m      4\u001b[0m \u001b[1;31m# Fit the model\u001b[0m\u001b[1;33m\u001b[0m\u001b[1;33m\u001b[0m\u001b[1;33m\u001b[0m\u001b[0m\n\u001b[1;32m----> 5\u001b[1;33m \u001b[0mmodel_1\u001b[0m \u001b[1;33m=\u001b[0m \u001b[0mnn\u001b[0m\u001b[1;33m.\u001b[0m\u001b[0mfit\u001b[0m\u001b[1;33m(\u001b[0m\u001b[0mX_train_scaled\u001b[0m\u001b[1;33m,\u001b[0m \u001b[0my\u001b[0m\u001b[1;33m,\u001b[0m \u001b[0mvalidation_split\u001b[0m\u001b[1;33m=\u001b[0m\u001b[1;36m0.3\u001b[0m\u001b[1;33m,\u001b[0m \u001b[0mepochs\u001b[0m\u001b[1;33m=\u001b[0m\u001b[1;36m50\u001b[0m\u001b[1;33m)\u001b[0m\u001b[1;33m\u001b[0m\u001b[1;33m\u001b[0m\u001b[0m\n\u001b[0m",
      "\u001b[1;32m~\\anaconda3\\envs\\uncc\\lib\\site-packages\\tensorflow\\python\\keras\\engine\\training.py\u001b[0m in \u001b[0;36mfit\u001b[1;34m(self, x, y, batch_size, epochs, verbose, callbacks, validation_split, validation_data, shuffle, class_weight, sample_weight, initial_epoch, steps_per_epoch, validation_steps, validation_batch_size, validation_freq, max_queue_size, workers, use_multiprocessing)\u001b[0m\n\u001b[0;32m   1181\u001b[0m                 _r=1):\n\u001b[0;32m   1182\u001b[0m               \u001b[0mcallbacks\u001b[0m\u001b[1;33m.\u001b[0m\u001b[0mon_train_batch_begin\u001b[0m\u001b[1;33m(\u001b[0m\u001b[0mstep\u001b[0m\u001b[1;33m)\u001b[0m\u001b[1;33m\u001b[0m\u001b[1;33m\u001b[0m\u001b[0m\n\u001b[1;32m-> 1183\u001b[1;33m               \u001b[0mtmp_logs\u001b[0m \u001b[1;33m=\u001b[0m \u001b[0mself\u001b[0m\u001b[1;33m.\u001b[0m\u001b[0mtrain_function\u001b[0m\u001b[1;33m(\u001b[0m\u001b[0miterator\u001b[0m\u001b[1;33m)\u001b[0m\u001b[1;33m\u001b[0m\u001b[1;33m\u001b[0m\u001b[0m\n\u001b[0m\u001b[0;32m   1184\u001b[0m               \u001b[1;32mif\u001b[0m \u001b[0mdata_handler\u001b[0m\u001b[1;33m.\u001b[0m\u001b[0mshould_sync\u001b[0m\u001b[1;33m:\u001b[0m\u001b[1;33m\u001b[0m\u001b[1;33m\u001b[0m\u001b[0m\n\u001b[0;32m   1185\u001b[0m                 \u001b[0mcontext\u001b[0m\u001b[1;33m.\u001b[0m\u001b[0masync_wait\u001b[0m\u001b[1;33m(\u001b[0m\u001b[1;33m)\u001b[0m\u001b[1;33m\u001b[0m\u001b[1;33m\u001b[0m\u001b[0m\n",
      "\u001b[1;32m~\\anaconda3\\envs\\uncc\\lib\\site-packages\\tensorflow\\python\\eager\\def_function.py\u001b[0m in \u001b[0;36m__call__\u001b[1;34m(self, *args, **kwds)\u001b[0m\n\u001b[0;32m    887\u001b[0m \u001b[1;33m\u001b[0m\u001b[0m\n\u001b[0;32m    888\u001b[0m       \u001b[1;32mwith\u001b[0m \u001b[0mOptionalXlaContext\u001b[0m\u001b[1;33m(\u001b[0m\u001b[0mself\u001b[0m\u001b[1;33m.\u001b[0m\u001b[0m_jit_compile\u001b[0m\u001b[1;33m)\u001b[0m\u001b[1;33m:\u001b[0m\u001b[1;33m\u001b[0m\u001b[1;33m\u001b[0m\u001b[0m\n\u001b[1;32m--> 889\u001b[1;33m         \u001b[0mresult\u001b[0m \u001b[1;33m=\u001b[0m \u001b[0mself\u001b[0m\u001b[1;33m.\u001b[0m\u001b[0m_call\u001b[0m\u001b[1;33m(\u001b[0m\u001b[1;33m*\u001b[0m\u001b[0margs\u001b[0m\u001b[1;33m,\u001b[0m \u001b[1;33m**\u001b[0m\u001b[0mkwds\u001b[0m\u001b[1;33m)\u001b[0m\u001b[1;33m\u001b[0m\u001b[1;33m\u001b[0m\u001b[0m\n\u001b[0m\u001b[0;32m    890\u001b[0m \u001b[1;33m\u001b[0m\u001b[0m\n\u001b[0;32m    891\u001b[0m       \u001b[0mnew_tracing_count\u001b[0m \u001b[1;33m=\u001b[0m \u001b[0mself\u001b[0m\u001b[1;33m.\u001b[0m\u001b[0mexperimental_get_tracing_count\u001b[0m\u001b[1;33m(\u001b[0m\u001b[1;33m)\u001b[0m\u001b[1;33m\u001b[0m\u001b[1;33m\u001b[0m\u001b[0m\n",
      "\u001b[1;32m~\\anaconda3\\envs\\uncc\\lib\\site-packages\\tensorflow\\python\\eager\\def_function.py\u001b[0m in \u001b[0;36m_call\u001b[1;34m(self, *args, **kwds)\u001b[0m\n\u001b[0;32m    915\u001b[0m       \u001b[1;31m# In this case we have created variables on the first call, so we run the\u001b[0m\u001b[1;33m\u001b[0m\u001b[1;33m\u001b[0m\u001b[1;33m\u001b[0m\u001b[0m\n\u001b[0;32m    916\u001b[0m       \u001b[1;31m# defunned version which is guaranteed to never create variables.\u001b[0m\u001b[1;33m\u001b[0m\u001b[1;33m\u001b[0m\u001b[1;33m\u001b[0m\u001b[0m\n\u001b[1;32m--> 917\u001b[1;33m       \u001b[1;32mreturn\u001b[0m \u001b[0mself\u001b[0m\u001b[1;33m.\u001b[0m\u001b[0m_stateless_fn\u001b[0m\u001b[1;33m(\u001b[0m\u001b[1;33m*\u001b[0m\u001b[0margs\u001b[0m\u001b[1;33m,\u001b[0m \u001b[1;33m**\u001b[0m\u001b[0mkwds\u001b[0m\u001b[1;33m)\u001b[0m  \u001b[1;31m# pylint: disable=not-callable\u001b[0m\u001b[1;33m\u001b[0m\u001b[1;33m\u001b[0m\u001b[0m\n\u001b[0m\u001b[0;32m    918\u001b[0m     \u001b[1;32melif\u001b[0m \u001b[0mself\u001b[0m\u001b[1;33m.\u001b[0m\u001b[0m_stateful_fn\u001b[0m \u001b[1;32mis\u001b[0m \u001b[1;32mnot\u001b[0m \u001b[1;32mNone\u001b[0m\u001b[1;33m:\u001b[0m\u001b[1;33m\u001b[0m\u001b[1;33m\u001b[0m\u001b[0m\n\u001b[0;32m    919\u001b[0m       \u001b[1;31m# Release the lock early so that multiple threads can perform the call\u001b[0m\u001b[1;33m\u001b[0m\u001b[1;33m\u001b[0m\u001b[1;33m\u001b[0m\u001b[0m\n",
      "\u001b[1;32m~\\anaconda3\\envs\\uncc\\lib\\site-packages\\tensorflow\\python\\eager\\function.py\u001b[0m in \u001b[0;36m__call__\u001b[1;34m(self, *args, **kwargs)\u001b[0m\n\u001b[0;32m   3021\u001b[0m       (graph_function,\n\u001b[0;32m   3022\u001b[0m        filtered_flat_args) = self._maybe_define_function(args, kwargs)\n\u001b[1;32m-> 3023\u001b[1;33m     return graph_function._call_flat(\n\u001b[0m\u001b[0;32m   3024\u001b[0m         filtered_flat_args, captured_inputs=graph_function.captured_inputs)  # pylint: disable=protected-access\n\u001b[0;32m   3025\u001b[0m \u001b[1;33m\u001b[0m\u001b[0m\n",
      "\u001b[1;32m~\\anaconda3\\envs\\uncc\\lib\\site-packages\\tensorflow\\python\\eager\\function.py\u001b[0m in \u001b[0;36m_call_flat\u001b[1;34m(self, args, captured_inputs, cancellation_manager)\u001b[0m\n\u001b[0;32m   1958\u001b[0m         and executing_eagerly):\n\u001b[0;32m   1959\u001b[0m       \u001b[1;31m# No tape is watching; skip to running the function.\u001b[0m\u001b[1;33m\u001b[0m\u001b[1;33m\u001b[0m\u001b[1;33m\u001b[0m\u001b[0m\n\u001b[1;32m-> 1960\u001b[1;33m       return self._build_call_outputs(self._inference_function.call(\n\u001b[0m\u001b[0;32m   1961\u001b[0m           ctx, args, cancellation_manager=cancellation_manager))\n\u001b[0;32m   1962\u001b[0m     forward_backward = self._select_forward_and_backward_functions(\n",
      "\u001b[1;32m~\\anaconda3\\envs\\uncc\\lib\\site-packages\\tensorflow\\python\\eager\\function.py\u001b[0m in \u001b[0;36mcall\u001b[1;34m(self, ctx, args, cancellation_manager)\u001b[0m\n\u001b[0;32m    589\u001b[0m       \u001b[1;32mwith\u001b[0m \u001b[0m_InterpolateFunctionError\u001b[0m\u001b[1;33m(\u001b[0m\u001b[0mself\u001b[0m\u001b[1;33m)\u001b[0m\u001b[1;33m:\u001b[0m\u001b[1;33m\u001b[0m\u001b[1;33m\u001b[0m\u001b[0m\n\u001b[0;32m    590\u001b[0m         \u001b[1;32mif\u001b[0m \u001b[0mcancellation_manager\u001b[0m \u001b[1;32mis\u001b[0m \u001b[1;32mNone\u001b[0m\u001b[1;33m:\u001b[0m\u001b[1;33m\u001b[0m\u001b[1;33m\u001b[0m\u001b[0m\n\u001b[1;32m--> 591\u001b[1;33m           outputs = execute.execute(\n\u001b[0m\u001b[0;32m    592\u001b[0m               \u001b[0mstr\u001b[0m\u001b[1;33m(\u001b[0m\u001b[0mself\u001b[0m\u001b[1;33m.\u001b[0m\u001b[0msignature\u001b[0m\u001b[1;33m.\u001b[0m\u001b[0mname\u001b[0m\u001b[1;33m)\u001b[0m\u001b[1;33m,\u001b[0m\u001b[1;33m\u001b[0m\u001b[1;33m\u001b[0m\u001b[0m\n\u001b[0;32m    593\u001b[0m               \u001b[0mnum_outputs\u001b[0m\u001b[1;33m=\u001b[0m\u001b[0mself\u001b[0m\u001b[1;33m.\u001b[0m\u001b[0m_num_outputs\u001b[0m\u001b[1;33m,\u001b[0m\u001b[1;33m\u001b[0m\u001b[1;33m\u001b[0m\u001b[0m\n",
      "\u001b[1;32m~\\anaconda3\\envs\\uncc\\lib\\site-packages\\tensorflow\\python\\eager\\execute.py\u001b[0m in \u001b[0;36mquick_execute\u001b[1;34m(op_name, num_outputs, inputs, attrs, ctx, name)\u001b[0m\n\u001b[0;32m     57\u001b[0m   \u001b[1;32mtry\u001b[0m\u001b[1;33m:\u001b[0m\u001b[1;33m\u001b[0m\u001b[1;33m\u001b[0m\u001b[0m\n\u001b[0;32m     58\u001b[0m     \u001b[0mctx\u001b[0m\u001b[1;33m.\u001b[0m\u001b[0mensure_initialized\u001b[0m\u001b[1;33m(\u001b[0m\u001b[1;33m)\u001b[0m\u001b[1;33m\u001b[0m\u001b[1;33m\u001b[0m\u001b[0m\n\u001b[1;32m---> 59\u001b[1;33m     tensors = pywrap_tfe.TFE_Py_Execute(ctx._handle, device_name, op_name,\n\u001b[0m\u001b[0;32m     60\u001b[0m                                         inputs, attrs, num_outputs)\n\u001b[0;32m     61\u001b[0m   \u001b[1;32mexcept\u001b[0m \u001b[0mcore\u001b[0m\u001b[1;33m.\u001b[0m\u001b[0m_NotOkStatusException\u001b[0m \u001b[1;32mas\u001b[0m \u001b[0me\u001b[0m\u001b[1;33m:\u001b[0m\u001b[1;33m\u001b[0m\u001b[1;33m\u001b[0m\u001b[0m\n",
      "\u001b[1;31mKeyboardInterrupt\u001b[0m: "
     ]
    }
   ],
   "source": [
    "# Compile the model\n",
    "nn.compile(loss=\"mean_squared_error\", optimizer=\"adam\", metrics=[\"accuracy\",\"mse\"])\n",
    "\n",
    "# Fit the model\n",
    "model_1 = nn.fit(X_train_scaled, y, validation_split=0.3, epochs=50)\n"
   ]
  },
  {
   "cell_type": "code",
   "execution_count": 12,
   "metadata": {},
   "outputs": [],
   "source": [
    "# serialize to JSON\n",
    "#json_file = model_1.to_json()\n",
    "#with open(json_file_path, \"w\") as file:\n",
    "    #file.write(model1_json_file)\n",
    "# serialize weights to HDF5\n",
    "#model_1.save_weights(h5_file)"
   ]
  },
  {
   "cell_type": "code",
   "execution_count": 13,
   "metadata": {},
   "outputs": [],
   "source": [
    "# serialize model to JSON\n",
    "model_json = nn.to_json()\n",
    "with open(\"model_1.json\", \"w\") as json_file:\n",
    "    json_file.write(model_json)\n"
   ]
  },
  {
   "cell_type": "code",
   "execution_count": 14,
   "metadata": {},
   "outputs": [
    {
     "name": "stdout",
     "output_type": "stream",
     "text": [
      "Saved model to disk\n"
     ]
    }
   ],
   "source": [
    "# serialize weights to HDF5\n",
    "nn.save_weights(\"model_1.h5\")\n",
    "print(\"Saved model to disk\")"
   ]
  },
  {
   "cell_type": "code",
   "execution_count": 15,
   "metadata": {
    "tags": []
   },
   "outputs": [],
   "source": [
    "# Define the model - deep neural network with two layers\n",
    "nn_2 = Sequential()\n",
    "\n",
    "# First hidden layer\n",
    "nn_2.add(Dense(units=42, input_dim=10, activation=\"tanh\"))\n",
    "\n",
    "# Second hidden layer\n",
    "nn_2.add(Dense(units=20, activation=\"tanh\"))\n",
    "\n",
    "# third\n",
    "nn_2.add(Dense(units=8, activation=\"tanh\"))\n",
    "\n",
    "# fourth\n",
    "nn_2.add(Dense(units=4, activation=\"tanh\"))\n",
    "\n",
    "# fifth\n",
    "nn_2.add(Dense(units=2, activation=\"relu\"))\n",
    "\n",
    "# Output layer\n",
    "nn_2.add(Dense(units=2, activation=\"sigmoid\"))"
   ]
  },
  {
   "cell_type": "code",
   "execution_count": 16,
   "metadata": {
    "scrolled": true,
    "tags": []
   },
   "outputs": [
    {
     "name": "stdout",
     "output_type": "stream",
     "text": [
      "Epoch 1/50\n",
      "657/657 - 2s - loss: 0.1534 - accuracy: 0.2881 - mse: 0.1534 - val_loss: 0.1388 - val_accuracy: 0.4913 - val_mse: 0.1388\n",
      "Epoch 2/50\n",
      "657/657 - 1s - loss: 0.1489 - accuracy: 0.4679 - mse: 0.1489 - val_loss: 0.1368 - val_accuracy: 0.7572 - val_mse: 0.1368\n",
      "Epoch 3/50\n",
      "657/657 - 1s - loss: 0.1485 - accuracy: 0.7063 - mse: 0.1485 - val_loss: 0.1361 - val_accuracy: 0.7261 - val_mse: 0.1361\n",
      "Epoch 4/50\n",
      "657/657 - 1s - loss: 0.1477 - accuracy: 0.6143 - mse: 0.1477 - val_loss: 0.1357 - val_accuracy: 0.3234 - val_mse: 0.1357\n",
      "Epoch 5/50\n",
      "657/657 - 1s - loss: 0.1475 - accuracy: 0.5354 - mse: 0.1475 - val_loss: 0.1352 - val_accuracy: 0.4400 - val_mse: 0.1352\n",
      "Epoch 6/50\n",
      "657/657 - 1s - loss: 0.1473 - accuracy: 0.6508 - mse: 0.1473 - val_loss: 0.1359 - val_accuracy: 0.2537 - val_mse: 0.1359\n",
      "Epoch 7/50\n",
      "657/657 - 1s - loss: 0.1473 - accuracy: 0.5428 - mse: 0.1473 - val_loss: 0.1348 - val_accuracy: 0.7827 - val_mse: 0.1348\n",
      "Epoch 8/50\n",
      "657/657 - 1s - loss: 0.1467 - accuracy: 0.4398 - mse: 0.1467 - val_loss: 0.1351 - val_accuracy: 0.2506 - val_mse: 0.1351\n",
      "Epoch 9/50\n",
      "657/657 - 1s - loss: 0.1467 - accuracy: 0.4073 - mse: 0.1467 - val_loss: 0.1351 - val_accuracy: 0.4203 - val_mse: 0.1351\n",
      "Epoch 10/50\n",
      "657/657 - 1s - loss: 0.1467 - accuracy: 0.5490 - mse: 0.1467 - val_loss: 0.1349 - val_accuracy: 0.2732 - val_mse: 0.1349\n",
      "Epoch 11/50\n",
      "657/657 - 1s - loss: 0.1466 - accuracy: 0.4430 - mse: 0.1466 - val_loss: 0.1346 - val_accuracy: 0.3209 - val_mse: 0.1346\n",
      "Epoch 12/50\n",
      "657/657 - 1s - loss: 0.1465 - accuracy: 0.4859 - mse: 0.1465 - val_loss: 0.1342 - val_accuracy: 0.6400 - val_mse: 0.1342\n",
      "Epoch 13/50\n",
      "657/657 - 1s - loss: 0.1465 - accuracy: 0.6057 - mse: 0.1465 - val_loss: 0.1342 - val_accuracy: 0.7651 - val_mse: 0.1342\n",
      "Epoch 14/50\n",
      "657/657 - 1s - loss: 0.1462 - accuracy: 0.5797 - mse: 0.1462 - val_loss: 0.1345 - val_accuracy: 0.7828 - val_mse: 0.1345\n",
      "Epoch 15/50\n",
      "657/657 - 1s - loss: 0.1462 - accuracy: 0.4678 - mse: 0.1462 - val_loss: 0.1342 - val_accuracy: 0.2236 - val_mse: 0.1342\n",
      "Epoch 16/50\n",
      "657/657 - 1s - loss: 0.1464 - accuracy: 0.4971 - mse: 0.1464 - val_loss: 0.1352 - val_accuracy: 0.7472 - val_mse: 0.1352\n",
      "Epoch 17/50\n",
      "657/657 - 1s - loss: 0.1465 - accuracy: 0.6085 - mse: 0.1465 - val_loss: 0.1346 - val_accuracy: 0.3246 - val_mse: 0.1346\n",
      "Epoch 18/50\n",
      "657/657 - 1s - loss: 0.1462 - accuracy: 0.6092 - mse: 0.1462 - val_loss: 0.1344 - val_accuracy: 0.6343 - val_mse: 0.1344\n",
      "Epoch 19/50\n",
      "657/657 - 1s - loss: 0.1464 - accuracy: 0.4814 - mse: 0.1464 - val_loss: 0.1350 - val_accuracy: 0.5192 - val_mse: 0.1350\n",
      "Epoch 20/50\n",
      "657/657 - 1s - loss: 0.1462 - accuracy: 0.4643 - mse: 0.1462 - val_loss: 0.1339 - val_accuracy: 0.5931 - val_mse: 0.1339\n",
      "Epoch 21/50\n",
      "657/657 - 1s - loss: 0.1462 - accuracy: 0.3919 - mse: 0.1462 - val_loss: 0.1342 - val_accuracy: 0.6668 - val_mse: 0.1342\n",
      "Epoch 22/50\n",
      "657/657 - 1s - loss: 0.1463 - accuracy: 0.4742 - mse: 0.1463 - val_loss: 0.1340 - val_accuracy: 0.7660 - val_mse: 0.1340\n",
      "Epoch 23/50\n",
      "657/657 - 1s - loss: 0.1462 - accuracy: 0.6256 - mse: 0.1462 - val_loss: 0.1345 - val_accuracy: 0.2163 - val_mse: 0.1345\n",
      "Epoch 24/50\n",
      "657/657 - 1s - loss: 0.1460 - accuracy: 0.6328 - mse: 0.1460 - val_loss: 0.1341 - val_accuracy: 0.7642 - val_mse: 0.1341\n",
      "Epoch 25/50\n",
      "657/657 - 1s - loss: 0.1460 - accuracy: 0.7246 - mse: 0.1460 - val_loss: 0.1342 - val_accuracy: 0.7881 - val_mse: 0.1342\n",
      "Epoch 26/50\n",
      "657/657 - 1s - loss: 0.1461 - accuracy: 0.4927 - mse: 0.1461 - val_loss: 0.1343 - val_accuracy: 0.2708 - val_mse: 0.1343\n",
      "Epoch 27/50\n",
      "657/657 - 1s - loss: 0.1460 - accuracy: 0.5476 - mse: 0.1460 - val_loss: 0.1341 - val_accuracy: 0.2389 - val_mse: 0.1341\n",
      "Epoch 28/50\n",
      "657/657 - 1s - loss: 0.1459 - accuracy: 0.2550 - mse: 0.1459 - val_loss: 0.1346 - val_accuracy: 0.2327 - val_mse: 0.1346\n",
      "Epoch 29/50\n",
      "657/657 - 1s - loss: 0.1460 - accuracy: 0.2821 - mse: 0.1460 - val_loss: 0.1343 - val_accuracy: 0.2439 - val_mse: 0.1343\n",
      "Epoch 30/50\n",
      "657/657 - 1s - loss: 0.1461 - accuracy: 0.2695 - mse: 0.1461 - val_loss: 0.1342 - val_accuracy: 0.2622 - val_mse: 0.1342\n",
      "Epoch 31/50\n",
      "657/657 - 1s - loss: 0.1460 - accuracy: 0.4026 - mse: 0.1460 - val_loss: 0.1339 - val_accuracy: 0.7814 - val_mse: 0.1339\n",
      "Epoch 32/50\n",
      "657/657 - 1s - loss: 0.1459 - accuracy: 0.5850 - mse: 0.1459 - val_loss: 0.1347 - val_accuracy: 0.2419 - val_mse: 0.1347\n",
      "Epoch 33/50\n",
      "657/657 - 1s - loss: 0.1461 - accuracy: 0.2650 - mse: 0.1461 - val_loss: 0.1345 - val_accuracy: 0.2639 - val_mse: 0.1345\n",
      "Epoch 34/50\n",
      "657/657 - 1s - loss: 0.1460 - accuracy: 0.2795 - mse: 0.1460 - val_loss: 0.1342 - val_accuracy: 0.2458 - val_mse: 0.1342\n",
      "Epoch 35/50\n",
      "657/657 - 1s - loss: 0.1459 - accuracy: 0.2874 - mse: 0.1459 - val_loss: 0.1352 - val_accuracy: 0.2621 - val_mse: 0.1352\n",
      "Epoch 36/50\n",
      "657/657 - 1s - loss: 0.1458 - accuracy: 0.3213 - mse: 0.1458 - val_loss: 0.1350 - val_accuracy: 0.2592 - val_mse: 0.1350\n",
      "Epoch 37/50\n",
      "657/657 - 1s - loss: 0.1459 - accuracy: 0.3610 - mse: 0.1459 - val_loss: 0.1359 - val_accuracy: 0.3101 - val_mse: 0.1359\n",
      "Epoch 38/50\n",
      "657/657 - 1s - loss: 0.1459 - accuracy: 0.2759 - mse: 0.1459 - val_loss: 0.1343 - val_accuracy: 0.2431 - val_mse: 0.1343\n",
      "Epoch 39/50\n",
      "657/657 - 1s - loss: 0.1458 - accuracy: 0.2898 - mse: 0.1458 - val_loss: 0.1340 - val_accuracy: 0.2470 - val_mse: 0.1340\n",
      "Epoch 40/50\n",
      "657/657 - 1s - loss: 0.1457 - accuracy: 0.2699 - mse: 0.1457 - val_loss: 0.1343 - val_accuracy: 0.2232 - val_mse: 0.1343\n",
      "Epoch 41/50\n",
      "657/657 - 1s - loss: 0.1457 - accuracy: 0.2698 - mse: 0.1457 - val_loss: 0.1339 - val_accuracy: 0.2668 - val_mse: 0.1339\n",
      "Epoch 42/50\n",
      "657/657 - 1s - loss: 0.1458 - accuracy: 0.3426 - mse: 0.1458 - val_loss: 0.1347 - val_accuracy: 0.2594 - val_mse: 0.1347\n",
      "Epoch 43/50\n",
      "657/657 - 1s - loss: 0.1458 - accuracy: 0.2703 - mse: 0.1458 - val_loss: 0.1338 - val_accuracy: 0.2556 - val_mse: 0.1338\n",
      "Epoch 44/50\n",
      "657/657 - 1s - loss: 0.1458 - accuracy: 0.2692 - mse: 0.1458 - val_loss: 0.1342 - val_accuracy: 0.2020 - val_mse: 0.1342\n",
      "Epoch 45/50\n",
      "657/657 - 1s - loss: 0.1458 - accuracy: 0.2672 - mse: 0.1458 - val_loss: 0.1342 - val_accuracy: 0.6188 - val_mse: 0.1342\n",
      "Epoch 46/50\n",
      "657/657 - 1s - loss: 0.1457 - accuracy: 0.4056 - mse: 0.1457 - val_loss: 0.1343 - val_accuracy: 0.2389 - val_mse: 0.1343\n",
      "Epoch 47/50\n",
      "657/657 - 1s - loss: 0.1458 - accuracy: 0.3024 - mse: 0.1458 - val_loss: 0.1341 - val_accuracy: 0.2753 - val_mse: 0.1341\n",
      "Epoch 48/50\n",
      "657/657 - 1s - loss: 0.1457 - accuracy: 0.2847 - mse: 0.1457 - val_loss: 0.1339 - val_accuracy: 0.2744 - val_mse: 0.1339\n",
      "Epoch 49/50\n",
      "657/657 - 1s - loss: 0.1456 - accuracy: 0.2909 - mse: 0.1456 - val_loss: 0.1344 - val_accuracy: 0.2733 - val_mse: 0.1344\n",
      "Epoch 50/50\n",
      "657/657 - 1s - loss: 0.1459 - accuracy: 0.2781 - mse: 0.1459 - val_loss: 0.1343 - val_accuracy: 0.2699 - val_mse: 0.1343\n"
     ]
    }
   ],
   "source": [
    "# Compile the model\n",
    "nn_2.compile(loss=\"mean_squared_error\", optimizer=\"adam\", metrics=[\"accuracy\",\"mse\"])\n",
    "\n",
    "# Fit the model\n",
    "model_2 = nn_2.fit(X, y, validation_split=0.3, epochs=50, verbose=2)"
   ]
  },
  {
   "cell_type": "code",
   "execution_count": 18,
   "metadata": {},
   "outputs": [],
   "source": [
    "# serialize model to JSON\n",
    "model_2_json = nn_2.to_json()\n",
    "with open(\"model_2.json\", \"w\") as json_file:\n",
    "    json_file.write(model_2_json)"
   ]
  },
  {
   "cell_type": "code",
   "execution_count": 19,
   "metadata": {},
   "outputs": [
    {
     "name": "stdout",
     "output_type": "stream",
     "text": [
      "Saved model to disk\n"
     ]
    }
   ],
   "source": [
    "nn_2.save_weights(\"model_2.h5\")\n",
    "print(\"Saved model to disk\")"
   ]
  },
  {
   "cell_type": "markdown",
   "metadata": {},
   "source": [
    "# Evaluate the models"
   ]
  },
  {
   "cell_type": "code",
   "execution_count": 156,
   "metadata": {
    "tags": []
   },
   "outputs": [
    {
     "data": {
      "image/png": "[encoded data removed]",
      "text/plain": [
       "<Figure size 432x288 with 1 Axes>"
      ]
     },
     "metadata": {
      "needs_background": "light"
     },
     "output_type": "display_data"
    }
   ],
   "source": [
    "# Plot the loss function of the training results for the two models\n",
    "plt.plot(model_1.history[\"loss\"])\n",
    "plt.plot(model_2.history[\"loss\"])\n",
    "plt.title(\"loss_function - Training - 1 hidden layer Vs. 2 hidden layer\")\n",
    "plt.legend([\"1 hidden layer\", \"2 hidden layers\"])\n",
    "plt.show()"
   ]
  },
  {
   "cell_type": "code",
   "execution_count": 117,
   "metadata": {
    "tags": []
   },
   "outputs": [],
   "source": [
    "import numpy as np"
   ]
  },
  {
   "cell_type": "code",
   "execution_count": 157,
   "metadata": {
    "tags": []
   },
   "outputs": [
    {
     "data": {
      "image/png": "[encoded data removed]",
      "text/plain": [
       "<Figure size 432x288 with 1 Axes>"
      ]
     },
     "metadata": {
      "needs_background": "light"
     },
     "output_type": "display_data"
    }
   ],
   "source": [
    "# Plot train vs test for shallow net\n",
    "plt.plot(np.sqrt(model_1.history['loss']))\n",
    "plt.plot(np.sqrt(model_1.history['val_loss']))\n",
    "plt.title(\"RMSE - 1 hidden layer - Train Vs. Test\")\n",
    "plt.legend([\"train\", \"test\"])\n",
    "plt.show()"
   ]
  },
  {
   "cell_type": "code",
   "execution_count": 158,
   "metadata": {
    "tags": []
   },
   "outputs": [
    {
     "data": {
      "image/png": "[encoded data removed]",
      "text/plain": [
       "<Figure size 432x288 with 1 Axes>"
      ]
     },
     "metadata": {
      "needs_background": "light"
     },
     "output_type": "display_data"
    }
   ],
   "source": [
    "# Plot train vs test for deep net\n",
    "plt.plot(np.sqrt(model_2.history['loss']))\n",
    "plt.plot(np.sqrt(model_2.history['val_loss']))\n",
    "plt.title(\"RMSE - 2 hidden layers - Train Vs. Test\")\n",
    "plt.legend([\"train\", \"test\"])\n",
    "plt.show()"
   ]
  },
  {
   "cell_type": "code",
   "execution_count": null,
   "metadata": {},
   "outputs": [],
   "source": []
  }
 ],
 "metadata": {
  "file_extension": ".py",
  "kernelspec": {
   "display_name": "Python 3",
   "language": "python",
   "name": "python3"
  },
  "language_info": {
   "codemirror_mode": {
    "name": "ipython",
    "version": 3
   },
   "file_extension": ".py",
   "mimetype": "text/x-python",
   "name": "python",
   "nbconvert_exporter": "python",
   "pygments_lexer": "ipython3",
   "version": "3.8.5"
  },
  "mimetype": "text/x-python",
  "name": "python",
  "npconvert_exporter": "python",
  "pygments_lexer": "ipython3",
  "version": 3
 },
 "nbformat": 4,
 "nbformat_minor": 4
}
